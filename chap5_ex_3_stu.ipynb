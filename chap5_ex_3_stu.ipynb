{
 "cells": [
  {
   "cell_type": "markdown",
   "metadata": {},
   "source": [
    "## ここまでの総合演習\n",
    "## 手書き数字の認識\n",
    "### 下記のニューラルネットワークにおいて手書き数字を認識するプログラムを下記の未完成プログラムのコメントに従って実装してください\n",
    "![](数字認識.png)"
   ]
  },
  {
   "cell_type": "markdown",
   "metadata": {},
   "source": [
    "### 👇リスト１：ライブラリのインポート"
   ]
  },
  {
   "cell_type": "code",
   "execution_count": 1,
   "metadata": {},
   "outputs": [],
   "source": [
    "import numpy as np\n",
    "import random"
   ]
  },
  {
   "cell_type": "markdown",
   "metadata": {},
   "source": [
    "### 👇リスト２：手書き数字データの設定"
   ]
  },
  {
   "cell_type": "code",
   "execution_count": 2,
   "metadata": {},
   "outputs": [],
   "source": [
    "# 数字１\n",
    "number_1_str = [\n",
    "  \"    11    \",\n",
    "  \"    11    \",\n",
    "  \"   111    \",\n",
    "  \"   111    \",\n",
    "  \"    11    \",\n",
    "  \"    11    \",\n",
    "  \"    11    \",\n",
    "  \"    11    \",\n",
    "  \"    11    \",\n",
    "  \"    11    \"\n",
    "]\n",
    "# 数字２\n",
    "number_2_str = [\n",
    "  \"   1111   \",\n",
    "  \"  111111  \",\n",
    "  \" 11   111 \",\n",
    "  \" 11   111 \",\n",
    "  \"     111  \",\n",
    "  \"     11   \",\n",
    "  \"    11    \",\n",
    "  \"   111    \",\n",
    "  \" 11111111 \",\n",
    "  \" 11111111 \"\n",
    "]\n",
    "# 数字３\n",
    "number_3_str = [\n",
    "  \"   1111   \",\n",
    "  \"  111111  \",\n",
    "  \" 11   111 \",\n",
    "  \" 11   111 \",\n",
    "  \"     111  \",\n",
    "  \"     111  \",\n",
    "  \" 11   111 \",\n",
    "  \" 11   111 \",\n",
    "  \"  111111  \",\n",
    "  \"  111111  \"\n",
    "]\n",
    "# 数字４\n",
    "number_4_str = [\n",
    "  \"     11   \",\n",
    "  \"    111   \",\n",
    "  \"    111   \",\n",
    "  \"   1111   \",\n",
    "  \"  11 11   \",\n",
    "  \"  11 11   \",\n",
    "  \" 11111111 \",\n",
    "  \" 111111111\",\n",
    "  \"     11   \",\n",
    "  \"     11   \"\n",
    "]"
   ]
  },
  {
   "cell_type": "markdown",
   "metadata": {},
   "source": [
    "### 👇リスト３：文字列配列を数値配列に変換する関数 str_to_number_list の定義"
   ]
  },
  {
   "cell_type": "code",
   "execution_count": 4,
   "metadata": {},
   "outputs": [],
   "source": [
    "'''\n",
    "関数名：str_to_number_list\n",
    "引数：str = 手書き文字列（文字列のリスト）\n",
    "処理：手書き文字列（文字列リスト）を数値リストに変換\n",
    "戻り値：数値２次元配列\n",
    "'''\n",
    "\n",
    "  # 数値リストの初期化\n",
    "  number_pattern = []\n",
    "  # 文字列リストを数値リストに変換（２重ループ）\n",
    "  # 文字 '1' なら数値の 1 に、空白文字 ' ' なら数値の 0 に変換\n",
    "  # 行数分繰り返す\n",
    "  \n",
    "    # 列数分（文字数分）繰り返す\n",
    "    \n",
    "      # 文字が '1' なら\n",
    "     \n",
    "        # 数値リストに 1 を追加する\n",
    "        \n",
    "      # そうでなければ\n",
    "      else:\n",
    "        # 数値リストに 0 を追加する\n",
    "        \n",
    "  # 数値リストを返す\n",
    "  "
   ]
  },
  {
   "cell_type": "markdown",
   "metadata": {},
   "source": [
    "### 👇リスト４：重みを生成する関数 create_weights の定義"
   ]
  },
  {
   "cell_type": "code",
   "execution_count": 5,
   "metadata": {},
   "outputs": [],
   "source": [
    "# 重みを生成する関数 create_weights の定義\n",
    "'''\n",
    "関数名：create_weights\n",
    "引数：\n",
    "  input_layer_number = 入力層のユニット数\n",
    "  output_layer_number = 出力層のユニット数\n",
    "処理：\n",
    "  行の数 = 出力層のユニット数、列の数 = 入力層のユニット数の行列を生成する\n",
    "  ただし行列の要素には０以上１以下の実数を配置する\n",
    "戻り値\n",
    "  生成した重みの行列\n",
    "'''\n",
    "\n",
    "  # 出力層のユニット数　ｘ　入力層のユニット数 の０行列（要素がすべて０の行列）を生成する\n",
    "  \n",
    "  # 行列の要素に０以上１位かの実数を設定する（２重ループ）\n",
    "  \n",
    "    \n",
    "      \n",
    "  # 行列を返す\n",
    "  "
   ]
  },
  {
   "cell_type": "markdown",
   "metadata": {},
   "source": [
    "### 👇リスト５：# 加重和（内積）を求める関数 w_sum の定義"
   ]
  },
  {
   "cell_type": "code",
   "execution_count": 6,
   "metadata": {},
   "outputs": [],
   "source": []
  },
  {
   "cell_type": "markdown",
   "metadata": {},
   "source": [
    "### 👇リスト６：ベクトルと行列のかけ算を求める関数 vect_mat_mul の定義"
   ]
  },
  {
   "cell_type": "code",
   "execution_count": 7,
   "metadata": {},
   "outputs": [],
   "source": []
  },
  {
   "cell_type": "markdown",
   "metadata": {},
   "source": [
    "### 👇リスト７：# ２つのリストの要素間を総なめして要素ごとのかけ算をしてその結果を行列に格納する関数 outer_prod の定義"
   ]
  },
  {
   "cell_type": "code",
   "execution_count": 8,
   "metadata": {},
   "outputs": [],
   "source": []
  },
  {
   "cell_type": "markdown",
   "metadata": {},
   "source": [
    "### 👇リスト８：予測値を求める関数 nuural_network の定義"
   ]
  },
  {
   "cell_type": "code",
   "execution_count": 9,
   "metadata": {},
   "outputs": [],
   "source": []
  },
  {
   "cell_type": "markdown",
   "metadata": {},
   "source": [
    "### 👇リスト９：認識した数値を返す関数 number_recognition 関数の定義"
   ]
  },
  {
   "cell_type": "code",
   "execution_count": 10,
   "metadata": {},
   "outputs": [],
   "source": [
    "# 認識した数値を返す関数 number_recognition 関数の定義\n",
    "'''\n",
    "関数名：number_recognition\n",
    "引数：pred = 予測値リスト\n",
    "処理：\n",
    "  予測値リストの最大値が存在する要素番号を返す\n",
    "戻り値：最大値の要素番号＝認識した数字\n",
    "'''"
   ]
  },
  {
   "cell_type": "markdown",
   "metadata": {},
   "source": [
    "### 👇リスト１０：学習関数 grad_descent_learn(input, truth, pred, weights, alpha) の定義"
   ]
  },
  {
   "cell_type": "code",
   "execution_count": 11,
   "metadata": {},
   "outputs": [],
   "source": []
  },
  {
   "cell_type": "markdown",
   "metadata": {},
   "source": [
    "### 👇リスト１１：入力データの設定（数字の２を認識させるため）：数字２"
   ]
  },
  {
   "cell_type": "code",
   "execution_count": 12,
   "metadata": {},
   "outputs": [],
   "source": [
    "# 入力データの設定（数字の２を認識させるため）\n",
    "# 数字２\n",
    "input = "
   ]
  },
  {
   "cell_type": "markdown",
   "metadata": {},
   "source": [
    "### 👇リスト１２：目的値（正解）の設定：数字２"
   ]
  },
  {
   "cell_type": "code",
   "execution_count": 13,
   "metadata": {},
   "outputs": [],
   "source": [
    "# 目的値（正解）の設定\n",
    "# 数字２\n",
    "truth = "
   ]
  },
  {
   "cell_type": "markdown",
   "metadata": {},
   "source": [
    "### 👇リスト１３：重みを生成（入力層のユニット数 ｘ 出力層のユニット数）"
   ]
  },
  {
   "cell_type": "code",
   "execution_count": 14,
   "metadata": {},
   "outputs": [],
   "source": [
    "# 重みを生成\n",
    "weights = "
   ]
  },
  {
   "cell_type": "markdown",
   "metadata": {},
   "source": [
    "### 👇リスト１４：アルファの初期化"
   ]
  },
  {
   "cell_type": "code",
   "execution_count": 15,
   "metadata": {},
   "outputs": [],
   "source": [
    "# アルファの初期化\n",
    "alpha = 0.001"
   ]
  },
  {
   "cell_type": "markdown",
   "metadata": {},
   "source": [
    "### 👇リスト１５：３００回学習する"
   ]
  },
  {
   "cell_type": "code",
   "execution_count": 16,
   "metadata": {},
   "outputs": [],
   "source": [
    "# ３００回学習する\n",
    "\n",
    "  # 予測値リストを求める\n",
    "  \n",
    "  # 認識した数字を求める\n",
    "  \n",
    "  # 学習する（重みを調整して更新する）\n",
    "  "
   ]
  },
  {
   "cell_type": "markdown",
   "metadata": {},
   "source": [
    "### 👇認識結果を表示する"
   ]
  },
  {
   "cell_type": "code",
   "execution_count": 17,
   "metadata": {},
   "outputs": [
    {
     "name": "stdout",
     "output_type": "stream",
     "text": [
      "認識 =  2\n"
     ]
    }
   ],
   "source": [
    "# 認識結果を表示する\n"
   ]
  },
  {
   "cell_type": "code",
   "execution_count": null,
   "metadata": {},
   "outputs": [],
   "source": []
  }
 ],
 "metadata": {
  "kernelspec": {
   "display_name": "Python 3",
   "language": "python",
   "name": "python3"
  },
  "language_info": {
   "codemirror_mode": {
    "name": "ipython",
    "version": 3
   },
   "file_extension": ".py",
   "mimetype": "text/x-python",
   "name": "python",
   "nbconvert_exporter": "python",
   "pygments_lexer": "ipython3",
   "version": "3.7.6"
  }
 },
 "nbformat": 4,
 "nbformat_minor": 4
}
