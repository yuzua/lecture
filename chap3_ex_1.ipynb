{
 "cells": [
  {
   "cell_type": "markdown",
   "metadata": {},
   "source": [
    "## 第３章　実習問題\n",
    "## 問題１\n",
    "### ▶ 下記のニューラルネットワークを実装するプログラムを作成してください。実行結果は下記のようになります。\n",
    "#### ◎実装するニューラルネットワーク\n",
    "![](ex_1.png)\n",
    "#### ◎実行結果\n",
    "![](ex_1_ans.png)"
   ]
  },
  {
   "source": [
    "19ぺーじの内容を参考に"
   ],
   "cell_type": "markdown",
   "metadata": {}
  },
  {
   "cell_type": "code",
   "execution_count": 1,
   "metadata": {},
   "outputs": [
    {
     "output_type": "stream",
     "name": "stdout",
     "text": [
      "0.8772000000000001\n"
     ]
    }
   ],
   "source": [
    "# 重みの初期化\n",
    "weight = 0.34\n",
    "\n",
    "'''\n",
    "空のニューラルネットワーク neural_network の定義\n",
    "関数名：neural_network\n",
    "引数：input -> 入力、weight -> 重み\n",
    "処理：入力と重みを掛けて返す\n",
    "戻り値：入力と重みの乗算値\n",
    "'''\n",
    "\n",
    "def neural_network(input, weight):\n",
    "    pred = weight * input * 0.1\n",
    "    return pred\n",
    "\n",
    "\n",
    "\n",
    "# 入力値の初期化\n",
    "input = 25.8\n",
    "# 予測値を求める\n",
    "pred = neural_network(input, weight)\n",
    "# 予測値を出力\n",
    "\n",
    "print(pred)\n"
   ]
  },
  {
   "cell_type": "markdown",
   "metadata": {},
   "source": [
    "## 問題２\n",
    "### 設問１ 下記のプログラムを実行してください\n"
   ]
  },
  {
   "cell_type": "code",
   "execution_count": 2,
   "metadata": {},
   "outputs": [
    {
     "output_type": "stream",
     "name": "stdout",
     "text": [
      "0.9800000000000001\n"
     ]
    }
   ],
   "source": [
    "# 加重和を計算して返す関数 w_sum の定義\n",
    "def w_sum(a, b):\n",
    "  # リスト a の長さと、リスト b の長さが等しいときに実行する\n",
    "  assert(len(a) == len(b))\n",
    "  output = 0\n",
    "  # リストの長さ分繰り返す\n",
    "  for i in range(len(a)):\n",
    "    # リストの要素同士をかけ合わせ合計を計算する（加重和を計算する）\n",
    "    output += (a[i] * b[i])\n",
    "  # 加重和を返す\n",
    "  return output\n",
    "\n",
    "# 重み\n",
    "weights = [0.1, 0.2, 0]\n",
    "\n",
    "# ニューラルネットワークを表現する関数 neural_network の定義\n",
    "def neural_network(input, weights):\n",
    "  # 入力と重みの加重和を求める\n",
    "  pred = w_sum(input, weights)\n",
    "  return pred\n",
    "\n",
    "'''\n",
    "このデータセットはシーズン最初の４試合について、\n",
    "それぞれの試合の開始時点の状態を表している：\n",
    "toes = 現在の各選手の足指の平均数\n",
    "wlrec = 現在の勝率（％）\n",
    "nfangs = ファンの数（百万単位）\n",
    "'''\n",
    "toes = [8.5, 9.5, 9.9, 9.0]\n",
    "wlrec = [0.65, 0.8, 0.8, 0.9]\n",
    "nfans = [1.2, 1.3, 0.5, 1.0]\n",
    "\n",
    "# 入力はシーズン最初の試合の３つのデータポイント\n",
    "input = [toes[0], wlrec[0], nfans[0]]\n",
    "# 入力情報と重みを関数 neural_network に渡して予測値（加重和）を得る\n",
    "pred = neural_network(input, weights)\n",
    "\n",
    "# 予測値（勝敗）を表示\n",
    "print(pred)"
   ]
  },
  {
   "cell_type": "markdown",
   "metadata": {},
   "source": [
    "### 設問２ 下記の実行結果となるように上記のプログラムを修正してください\n",
    "#### ◎実行結果\n",
    "![](ex_2_run.png)"
   ]
  },
  {
   "cell_type": "code",
   "execution_count": null,
   "metadata": {},
   "outputs": [],
   "source": []
  }
 ],
 "metadata": {
  "kernelspec": {
   "name": "python3",
   "display_name": "Python 3.8.6 64-bit ('lecture-GAa8e1uk': pipenv)"
  },
  "language_info": {
   "codemirror_mode": {
    "name": "ipython",
    "version": 3
   },
   "file_extension": ".py",
   "mimetype": "text/x-python",
   "name": "python",
   "nbconvert_exporter": "python",
   "pygments_lexer": "ipython3",
   "version": "3.8.6"
  },
  "interpreter": {
   "hash": "ab5071c795c90634bb65528267664959098047cb3b55eb9ef645391ba2ede91d"
  }
 },
 "nbformat": 4,
 "nbformat_minor": 4
}