{
 "metadata": {
  "language_info": {
   "codemirror_mode": {
    "name": "ipython",
    "version": 3
   },
   "file_extension": ".py",
   "mimetype": "text/x-python",
   "name": "python",
   "nbconvert_exporter": "python",
   "pygments_lexer": "ipython3",
   "version": "3.8.6"
  },
  "orig_nbformat": 4,
  "kernelspec": {
   "name": "python3",
   "display_name": "Python 3.8.6 64-bit ('lecture-GAa8e1uk': pipenv)"
  },
  "interpreter": {
   "hash": "ab5071c795c90634bb65528267664959098047cb3b55eb9ef645391ba2ede91d"
  }
 },
 "nbformat": 4,
 "nbformat_minor": 2,
 "cells": [
  {
   "cell_type": "code",
   "execution_count": 26,
   "metadata": {},
   "outputs": [],
   "source": [
    "from tensorflow.keras.datasets import mnist\n",
    "from matplotlib import pyplot\n",
    "import pandas as pd\n",
    "import tensorflow as tf\n",
    "from tensorflow.keras import layers, models \n",
    "from sklearn.model_selection import train_test_split\n",
    "\n",
    "dates = mnist.load_data()"
   ]
  },
  {
   "cell_type": "code",
   "execution_count": 27,
   "metadata": {},
   "outputs": [
    {
     "output_type": "execute_result",
     "data": {
      "text/plain": [
       "array([5, 0, 4, ..., 5, 6, 8], dtype=uint8)"
      ]
     },
     "metadata": {},
     "execution_count": 27
    }
   ],
   "source": [
    "dates[0][1]\n",
    "# pyplot.matshow(dates[0][0][1])"
   ]
  },
  {
   "cell_type": "code",
   "execution_count": null,
   "metadata": {},
   "outputs": [],
   "source": [
    "# X = a\n",
    "# Y = np.array(y)\n",
    "# 0.75 0.25\n",
    "# X, x_test, Y, y_test = train_test_split(x, y, test_size=0.25, shuffle=False)\n",
    "X = dates[0][0]\n",
    "Y = dates[0][1]\n",
    "x_test = dates[1][0]\n",
    "y_test = dates[1][1]\n",
    "\n",
    "hidden = layers.Dense(units=784, activation='sigmoid', use_bias=True, name='hidden')\n",
    "output = layers.Dense(units=1, activation='sigmoid', use_bias=True, name='output')\n",
    "model = models.Sequential()\n",
    "model.add(hidden)\n",
    "model.add(output)\n",
    "sgd = tf.keras.optimizers.SGD(learning_rate=0.1)\n",
    "model.compile(optimizer=sgd, loss='mse', metrics=['acc'])\n",
    "# my_callbacks = [\n",
    "#     tf.keras.callbacks.EarlyStopping(patience=2),\n",
    "#     tf.keras.callbacks.ModelCheckpoint(filepath='model.{epoch:02d}-{val_loss:.2f}.h5'),\n",
    "#     tf.keras.callbacks.TensorBoard(log_dir='./logs'),\n",
    "# ]\n",
    "history = model.fit(x=X, y=Y, batch_size=4, epochs=100, verbose=0) # , callbacks=my_callbacks)\n",
    "results = model.evaluate(x_test, y_test, batch_size=4) # 128\n",
    "model.predict(x_test)"
   ]
  },
  {
   "cell_type": "code",
   "execution_count": null,
   "metadata": {},
   "outputs": [],
   "source": [
    "pd.DataFrame({'acc': history.history['acc']}).plot()\n",
    "pd.DataFrame({'loss': history.history['loss']}).plot()"
   ]
  }
 ]
}