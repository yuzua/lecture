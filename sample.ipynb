{
 "metadata": {
  "language_info": {
   "codemirror_mode": {
    "name": "ipython",
    "version": 3
   },
   "file_extension": ".py",
   "mimetype": "text/x-python",
   "name": "python",
   "nbconvert_exporter": "python",
   "pygments_lexer": "ipython3",
   "version": "3.8.6"
  },
  "orig_nbformat": 2,
  "kernelspec": {
   "name": "python3",
   "display_name": "Python 3.8.6 64-bit ('lecture-GAa8e1uk': pipenv)"
  },
  "metadata": {
   "interpreter": {
    "hash": "8da00366e7d89e198182b211863ca468376f038ac2b7b34de3799fd03d57f1a0"
   }
  },
  "interpreter": {
   "hash": "ab5071c795c90634bb65528267664959098047cb3b55eb9ef645391ba2ede91d"
  }
 },
 "nbformat": 4,
 "nbformat_minor": 2,
 "cells": [
  {
   "cell_type": "code",
   "execution_count": 3,
   "metadata": {},
   "outputs": [],
   "source": [
    "import pandas as pd\n",
    "import numpy as np\n",
    "import matplotlib.pyplot as plt"
   ]
  },
  {
   "cell_type": "code",
   "execution_count": 5,
   "metadata": {},
   "outputs": [],
   "source": [
    "# AND演算\n",
    "signal = pd.DataFrame([\n",
    "    [0, 0],\n",
    "    [0, 1],\n",
    "    [1, 0],\n",
    "    [1, 1]\n",
    "],\n",
    "columns = [\"x1\", \"x2\"])"
   ]
  },
  {
   "cell_type": "code",
   "execution_count": 8,
   "metadata": {},
   "outputs": [
    {
     "output_type": "execute_result",
     "data": {
      "text/plain": [
       "   x1  x2  y\n",
       "0   0   0  0\n",
       "1   0   1  0\n",
       "2   1   0  0\n",
       "3   1   1  1"
      ],
      "text/html": "<div>\n<style scoped>\n    .dataframe tbody tr th:only-of-type {\n        vertical-align: middle;\n    }\n\n    .dataframe tbody tr th {\n        vertical-align: top;\n    }\n\n    .dataframe thead th {\n        text-align: right;\n    }\n</style>\n<table border=\"1\" class=\"dataframe\">\n  <thead>\n    <tr style=\"text-align: right;\">\n      <th></th>\n      <th>x1</th>\n      <th>x2</th>\n      <th>y</th>\n    </tr>\n  </thead>\n  <tbody>\n    <tr>\n      <th>0</th>\n      <td>0</td>\n      <td>0</td>\n      <td>0</td>\n    </tr>\n    <tr>\n      <th>1</th>\n      <td>0</td>\n      <td>1</td>\n      <td>0</td>\n    </tr>\n    <tr>\n      <th>2</th>\n      <td>1</td>\n      <td>0</td>\n      <td>0</td>\n    </tr>\n    <tr>\n      <th>3</th>\n      <td>1</td>\n      <td>1</td>\n      <td>1</td>\n    </tr>\n  </tbody>\n</table>\n</div>"
     },
     "metadata": {},
     "execution_count": 8
    }
   ],
   "source": [
    "# AND\n",
    "AND = signal.copy()\n",
    "AND[\"y\"] = signal.x1 & signal.x2\n",
    "AND"
   ]
  },
  {
   "cell_type": "code",
   "execution_count": 17,
   "metadata": {},
   "outputs": [],
   "source": [
    "# パーセプトロンの実装\n",
    "def AND_gate(x1, x2):\n",
    "    w1, w2 = 0.5, 0.5\n",
    "    theta = 0.7\n",
    "    tmp = w1*x1 + w2*x2\n",
    "    if tmp <= theta:\n",
    "        y = 0\n",
    "    else:\n",
    "        y = 1\n",
    "    return y"
   ]
  },
  {
   "cell_type": "code",
   "execution_count": 18,
   "metadata": {},
   "outputs": [
    {
     "output_type": "stream",
     "name": "stdout",
     "text": [
      "0\n0\n0\n1\n"
     ]
    }
   ],
   "source": [
    "print(AND_gate(0,0))\n",
    "print(AND_gate(1,0))\n",
    "print(AND_gate(0,1))\n",
    "print(AND_gate(1,1))"
   ]
  },
  {
   "cell_type": "code",
   "execution_count": 21,
   "metadata": {},
   "outputs": [
    {
     "output_type": "stream",
     "name": "stdout",
     "text": [
      "0\n0\n0\n1\n"
     ]
    }
   ],
   "source": [
    "# バイアスを導入したパーセプトロンの実装\n",
    "def AND_gate2(x1, x2):\n",
    "    w1, w2 = 0.5, 0.5\n",
    "    b = -0.7\n",
    "    tmp = w1*x1 + w2*x2 + b\n",
    "    if tmp <= 0:\n",
    "        y = 0\n",
    "    else:\n",
    "        y = 1\n",
    "    return y\n",
    "print(AND_gate2(0,0))\n",
    "print(AND_gate2(1,0))\n",
    "print(AND_gate2(0,1))\n",
    "print(AND_gate2(1,1))"
   ]
  }
 ]
}