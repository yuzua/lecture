{
 "cells": [
  {
   "cell_type": "markdown",
   "metadata": {},
   "source": [
    "## 第４章　実習１\n",
    "## 問題１\n",
    "### ▶ 下記のニューラルネットワークを実装するプログラムコメントに従ってを実装してください。実行結果は下記のようになります。\n",
    "![](chap4_ex_1.png)"
   ]
  },
  {
   "cell_type": "code",
   "execution_count": 2,
   "metadata": {},
   "outputs": [
    {
     "name": "stdout",
     "output_type": "stream",
     "text": [
      "error =  0.33062499999999995\n",
      "Prediction:0.425\n",
      "error =  0.025460191406250016\n",
      "Prediction:0.8404375\n",
      "error =  0.001960593864477538\n",
      "Prediction:0.95572140625\n",
      "error =  0.00015097798127642565\n",
      "Prediction:0.9877126902343749\n",
      "error =  1.1626248170667354e-05\n",
      "Prediction:0.9965902715400391\n",
      "error =  8.95293773192548e-07\n",
      "Prediction:0.9990538003523608\n",
      "error =  6.894321612191274e-08\n",
      "Prediction:0.9997374295977801\n",
      "error =  5.309058536475423e-09\n",
      "Prediction:0.9999271367133841\n",
      "error =  4.088306889238432e-10\n",
      "Prediction:0.9999797804379641\n",
      "error =  3.148251823766156e-11\n",
      "Prediction:0.9999943890715352\n",
      "error =  2.4243506701625244e-12\n",
      "Prediction:0.999998442967351\n",
      "error =  1.866901538719145e-13\n",
      "Prediction:0.9999995679234398\n",
      "error =  1.4376308669519585e-14\n",
      "Prediction:0.9999998800987545\n",
      "error =  1.1070656158066624e-15\n",
      "Prediction:0.9999999667274044\n",
      "error =  8.525097117742863e-17\n",
      "Prediction:0.9999999907668548\n",
      "error =  6.5648575010927846e-18\n",
      "Prediction:0.9999999974378022\n",
      "error =  5.055351029381614e-19\n",
      "Prediction:0.9999999992889901\n",
      "error =  3.892937478759145e-20\n",
      "Prediction:0.9999999998026947\n",
      "error =  2.9978158657885976e-21\n",
      "Prediction:0.9999999999452477\n",
      "error =  2.308495880788747e-22\n",
      "Prediction:0.9999999999848063\n"
     ]
    }
   ],
   "source": [
    "# 予測関数 neural_network(input, weight) の定義\n",
    "def neural_network(input, weight):\n",
    "    pred = input * weight\n",
    "    return pred\n",
    "\n",
    "# 学習関数 grad_descent_learn(input, goal_pred, pred, weight) の定義\n",
    "'''\n",
    "関数名：grad_descent_learn\n",
    "引数：\n",
    "    input：入力値\n",
    "    goal_pred：目的値\n",
    "    pred：予測値\n",
    "    weight：重み\n",
    "処理：勾配降下法に基づき重みを修正する\n",
    "戻り値：修正された重み\n",
    "'''\n",
    "\n",
    "def grad_descent_learn(input, goal_pred, pred, weight):\n",
    "    delta = pred - goal_pred\n",
    "    weight = input * delta\n",
    "    return weight\n",
    "\n",
    "# 重みの初期化（0.5 に初期化）\n",
    "weight = 0.5\n",
    "\n",
    "# 目的値（正解）の初期化（できる男度　1.0 に初期化）\n",
    "goal_pred = 1.0\n",
    "\n",
    "# 入力値の初期化（年収　0.85 に初期化）\n",
    "input = 0.85\n",
    "\n",
    "# 予測・比較・学習を２０回繰り返す\n",
    "for i in range(20):\n",
    "    # 予測を求める\n",
    "    pred = neural_network(input, weight)\n",
    "    error = (pred - goal_pred) ** 2\n",
    "    # 学習する\n",
    "    sample = grad_descent_learn(input, goal_pred, pred, weight)\n",
    "    # 予測値を表示\n",
    "    print(\"error = \"+int(error))\n",
    "    print(\"Prediction:\"+int(pred))"
   ]
  },
  {
   "cell_type": "code",
   "execution_count": 11,
   "metadata": {},
   "outputs": [
    {
     "output_type": "stream",
     "name": "stdout",
     "text": [
      "error = 0.33062499999999995\nPrediction:0.425\nerror = 0.025460191406250016\nPrediction:0.8404375\nerror = 0.001960593864477538\nPrediction:0.95572140625\nerror = 0.00015097798127642565\nPrediction:0.9877126902343749\nerror = 1.1626248170667354e-05\nPrediction:0.9965902715400391\nerror = 8.95293773192548e-07\nPrediction:0.9990538003523608\nerror = 6.894321612191274e-08\nPrediction:0.9997374295977801\nerror = 5.309058536475423e-09\nPrediction:0.9999271367133841\nerror = 4.088306889238432e-10\nPrediction:0.9999797804379641\nerror = 3.148251823766156e-11\nPrediction:0.9999943890715352\nerror = 2.4243506701625244e-12\nPrediction:0.999998442967351\nerror = 1.866901538719145e-13\nPrediction:0.9999995679234398\nerror = 1.4376308669519585e-14\nPrediction:0.9999998800987545\nerror = 1.1070656158066624e-15\nPrediction:0.9999999667274044\nerror = 8.525097117742863e-17\nPrediction:0.9999999907668548\nerror = 6.5648575010927846e-18\nPrediction:0.9999999974378022\nerror = 5.055351029381614e-19\nPrediction:0.9999999992889901\nerror = 3.892937478759145e-20\nPrediction:0.9999999998026947\nerror = 2.9978158657885976e-21\nPrediction:0.9999999999452477\nerror = 2.308495880788747e-22\nPrediction:0.9999999999848063\n"
     ]
    }
   ],
   "source": [
    "# 予測関数 neural_network(input, weight) の定義\n",
    "def neural_network(input, weight):\n",
    "    pred = input * weight\n",
    "    return pred\n",
    "\n",
    "# 学習関数 grad_descent_learn(input, goal_pred, pred, weight) の定義\n",
    "'''\n",
    "関数名：grad_descent_learn\n",
    "引数：\n",
    "    input：入力値\n",
    "    goal_pred：目的値\n",
    "    pred：予測値\n",
    "    weight：重み\n",
    "処理：勾配降下法に基づき重みを修正する\n",
    "戻り値：修正された重み\n",
    "'''\n",
    "\n",
    "def grad_descent_learn(input, goal_pred, pred, weight):\n",
    "    delta = pred - goal_pred\n",
    "    weight_delta = input * delta\n",
    "    alpha = 1.0\n",
    "    weight -= weight_delta * alpha\n",
    "    return weight\n",
    "\n",
    "# 重みの初期化（0.5 に初期化）\n",
    "weight = 0.5\n",
    "\n",
    "# 目的値（正解）の初期化（できる男度　1.0 に初期化）\n",
    "goal_pred = 1.0\n",
    "\n",
    "# 入力値の初期化（年収　0.85 に初期化）\n",
    "input = 0.85\n",
    "\n",
    "# 予測・比較・学習を２０回繰り返す\n",
    "for i in range(20):\n",
    "    # 予測を求める\n",
    "    pred = neural_network(input, weight)\n",
    "    error = (pred - goal_pred) ** 2\n",
    "    # 学習する\n",
    "    weight = grad_descent_learn(input, goal_pred, pred, weight)\n",
    "    # 予測値を表示\n",
    "    print(\"error = \"+ str(error))\n",
    "    print(\"Prediction:\"+ str(pred) )"
   ]
  },
  {
   "cell_type": "code",
   "execution_count": null,
   "metadata": {},
   "outputs": [],
   "source": []
  }
 ],
 "metadata": {
  "kernelspec": {
   "name": "python3",
   "display_name": "Python 3.8.6 64-bit"
  },
  "language_info": {
   "codemirror_mode": {
    "name": "ipython",
    "version": 3
   },
   "file_extension": ".py",
   "mimetype": "text/x-python",
   "name": "python",
   "nbconvert_exporter": "python",
   "pygments_lexer": "ipython3",
   "version": "3.8.6"
  },
  "interpreter": {
   "hash": "8da00366e7d89e198182b211863ca468376f038ac2b7b34de3799fd03d57f1a0"
  }
 },
 "nbformat": 4,
 "nbformat_minor": 4
}