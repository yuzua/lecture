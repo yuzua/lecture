{
 "metadata": {
  "language_info": {
   "codemirror_mode": {
    "name": "ipython",
    "version": 3
   },
   "file_extension": ".py",
   "mimetype": "text/x-python",
   "name": "python",
   "nbconvert_exporter": "python",
   "pygments_lexer": "ipython3",
   "version": "3.8.6"
  },
  "orig_nbformat": 2,
  "kernelspec": {
   "name": "python386jvsc74a57bd0ab5071c795c90634bb65528267664959098047cb3b55eb9ef645391ba2ede91d",
   "display_name": "Python 3.8.6 64-bit ('lecture-GAa8e1uk': pipenv)"
  }
 },
 "nbformat": 4,
 "nbformat_minor": 2,
 "cells": [
  {
   "cell_type": "code",
   "execution_count": 2,
   "metadata": {},
   "outputs": [],
   "source": [
    "import pandas as pd\n",
    "import numpy as np\n",
    "from tensorflow.keras import layers, models "
   ]
  },
  {
   "cell_type": "code",
   "execution_count": 3,
   "metadata": {},
   "outputs": [],
   "source": [
    "x = np.array([[0.0, 0.0],[0.0, 1.0],[1.0, 0.0],[1.0, 1.0]])\n",
    "y = np.array([[0.0],[1.0],[1.0],[0.0]])\n",
    "# unit(ニューロン数) use_bias(バイアスの使用)\n",
    "hidden = layers.Dense(units=2, activation='sigmoid', use_bias=True, name='hidden')\n",
    "\n",
    "output = layers.Dense(units=1, activation='sigmoid', use_bias=True, name='output')\n",
    "# 上記のものを使用してモデルを自動で構築\n",
    "model = models.Sequential()\n",
    "model.add(hidden)\n",
    "model.add(output)\n",
    "# \n",
    "model.compile(optimizer='SGD', loss='mse',metrics=['acc'])"
   ]
  },
  {
   "cell_type": "code",
   "execution_count": null,
   "metadata": {},
   "outputs": [],
   "source": []
  }
 ]
}